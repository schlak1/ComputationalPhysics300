{
 "cells": [
  {
   "cell_type": "code",
   "execution_count": 112,
   "id": "ad1a4020",
   "metadata": {},
   "outputs": [],
   "source": [
    "import numpy as np\n",
    "#The function to roll 2 dice\n",
    "def DiceRoll(N):\n",
    "    #generate seed for consistent results\n",
    "    np.random.seed(1)\n",
    "    a=np.random.randint(1,7,N)\n",
    "    np.random.seed(0)\n",
    "    b=np.random.randint(1,7,N)\n",
    "    return (a,b)\n",
    "\n",
    "#The function to count the number of double sixes\n",
    "def Count6s(N):\n",
    "    #roll 2 dice\n",
    "    np.random.seed(1)\n",
    "    a=np.random.randint(1,7,N)\n",
    "    np.random.seed(0)\n",
    "    b=np.random.randint(1,7,N)\n",
    "    counts = 0\n",
    "    #loop to count every time both values are 6\n",
    "    for i in range(N):\n",
    "        if a[i] == 6 and b[i] == 6:\n",
    "            counts = counts+1\n",
    "    return (counts)"
   ]
  },
  {
   "cell_type": "code",
   "execution_count": 120,
   "id": "8627cedd",
   "metadata": {},
   "outputs": [
    {
     "data": {
      "text/plain": [
       "(array([6, 4, 5, ..., 3, 6, 6]), array([5, 6, 1, ..., 6, 1, 5]))"
      ]
     },
     "execution_count": 120,
     "metadata": {},
     "output_type": "execute_result"
    }
   ],
   "source": [
    "DiceRoll(1000000)"
   ]
  },
  {
   "cell_type": "code",
   "execution_count": 121,
   "id": "0290ff2b",
   "metadata": {},
   "outputs": [
    {
     "data": {
      "text/plain": [
       "27945"
      ]
     },
     "execution_count": 121,
     "metadata": {},
     "output_type": "execute_result"
    }
   ],
   "source": [
    "Count6s(1000000)"
   ]
  },
  {
   "cell_type": "code",
   "execution_count": 122,
   "id": "a872e8f3",
   "metadata": {},
   "outputs": [
    {
     "name": "stdout",
     "output_type": "stream",
     "text": [
      "Probability of double 6 in this data is  0.027945\n"
     ]
    }
   ],
   "source": [
    "#Calculate the probability after one million dice rolls\n",
    "probability = Count6s(1000000)/1000000\n",
    "print(\"Probability of double 6 in this data is \", Count6s(1000000)/1000000)"
   ]
  },
  {
   "cell_type": "code",
   "execution_count": 113,
   "id": "99339eb6",
   "metadata": {},
   "outputs": [],
   "source": [
    "#Generate random numbers between -5 and 5\n",
    "def Generate(N):\n",
    "    #generate seed for consistent results\n",
    "    np.random.seed(1)\n",
    "    a=np.random.randint(-5,6,N)\n",
    "    return(a)"
   ]
  },
  {
   "cell_type": "code",
   "execution_count": 116,
   "id": "e8a569f9",
   "metadata": {},
   "outputs": [
    {
     "data": {
      "text/plain": [
       "array([ 0,  3,  4,  0, -5, -5, -4,  2,  1,  4, -3, -1,  0, -3, -1,  5, -3,\n",
       "       -1,  2,  2,  4, -4,  2, -5,  1,  4,  4,  2,  1,  4, -4, -5, -4,  3,\n",
       "        3, -2,  5,  4,  3,  2, -2,  1,  0, -4,  4, -2, -1,  3, -4,  5])"
      ]
     },
     "execution_count": 116,
     "metadata": {},
     "output_type": "execute_result"
    }
   ],
   "source": [
    "Generate(50)"
   ]
  }
 ],
 "metadata": {
  "kernelspec": {
   "display_name": "Python 3 (ipykernel)",
   "language": "python",
   "name": "python3"
  },
  "language_info": {
   "codemirror_mode": {
    "name": "ipython",
    "version": 3
   },
   "file_extension": ".py",
   "mimetype": "text/x-python",
   "name": "python",
   "nbconvert_exporter": "python",
   "pygments_lexer": "ipython3",
   "version": "3.9.12"
  }
 },
 "nbformat": 4,
 "nbformat_minor": 5
}
