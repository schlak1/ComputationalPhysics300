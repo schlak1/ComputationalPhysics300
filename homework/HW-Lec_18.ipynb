{
 "cells": [
  {
   "cell_type": "code",
   "execution_count": 10,
   "id": "58a8b6c8",
   "metadata": {},
   "outputs": [],
   "source": [
    "import numpy as np\n",
    "import requests\n",
    "from numba import jit\n",
    "from scipy.optimize import minimize\n",
    "\n",
    "@jit\n",
    "def LJ(r):\n",
    "    r6 = r**6\n",
    "    r12 = r6*r6\n",
    "    return 4*(1/r12 - 1/r6)\n",
    "@jit\n",
    "def total_energy(positions):\n",
    "    \"\"\"\n",
    "    Calculate the total energy\n",
    "    input:\n",
    "    positions: 3*N array which represents the atomic positions\n",
    "    output\n",
    "    E: the total energy\n",
    "    \"\"\"\n",
    "    E = 0\n",
    "    N_atom = int(len(positions)/3)\n",
    "\n",
    "    #positions = [x0, y0, z0, x1, y1, z1, .....  , xn, yn, zn]\n",
    "    for i in range(N_atom-1):\n",
    "        for j in range(i+1, N_atom):\n",
    "            pos1 = positions[i*3:(i+1)*3]\n",
    "            pos2 = positions[j*3:(j+1)*3]\n",
    "            #print('pos1:  ', pos1)\n",
    "            #print('pos2:  ', pos2)\n",
    "            dist = np.linalg.norm(pos1-pos2)\n",
    "            #print(i,j, dist)\n",
    "            E += LJ(dist)\n",
    "    return E\n",
    "@jit           \n",
    "def init_pos(N, L=5):\n",
    "    return L*np.random.random_sample((N*3,))\n",
    "@jit\n",
    "def get_pos_from_url(address='http://doye.chem.ox.ac.uk/jon/structures/LJ/points/', N=7):\n",
    "    url_address = address + str(N)\n",
    "    data_str = requests.get(url_address).text\n",
    "    return parse_url_text(data_str)    \n",
    "@jit    \n",
    "def parse_url_text(data_str):\n",
    "    x_array = []\n",
    "    text = data_str.split('\\n')\n",
    "    for line in text:\n",
    "        [x_array.append(float(i)) for i in line.split()]\n",
    "    return np.array(x_array)\n",
    "\n",
    "@jit\n",
    "def get_min(n, m):\n",
    "    f_values = []\n",
    "    x_values = []\n",
    "    N_attempts = 2\n",
    "    N_atom = n\n",
    "    for i in range(N_attempts):\n",
    "        pos = init_pos(N_atom)\n",
    "        res = minimize(total_energy, pos, method=m, tol=1e-4)\n",
    "        f_values.append(res.fun)\n",
    "        x_values.append(res.x)\n",
    "        if i%10==0:\n",
    "            print('step: ', i, '  values:', res.fun)\n",
    "\n",
    "    print('The global minimum:  ', min(f_values))\n",
    "    return"
   ]
  },
  {
   "cell_type": "code",
   "execution_count": 13,
   "id": "cf36f4d9",
   "metadata": {},
   "outputs": [
    {
     "name": "stdout",
     "output_type": "stream",
     "text": [
      "step:  0   values: -18.82867157623802\n",
      "The global minimum:   -41.39439841691249\n",
      "step:  0   values: -36.38045092891985\n",
      "The global minimum:   -36.38045092891985\n",
      "step:  0   values: -39.722599697082664\n",
      "The global minimum:   -39.722599697082664\n",
      "step:  0   values: -39.96537934589519\n",
      "The global minimum:   -40.604584201440055\n",
      "step:  0   values: -27.479738923156333\n",
      "The global minimum:   -41.44459700213772\n",
      "step:  0   values: -38.31768631084022\n",
      "The global minimum:   -38.31768631084022\n",
      "step:  0   values: -37.25947466915122\n",
      "The global minimum:   -37.5646235849605\n",
      "step:  0   values: -37.59447960097039\n",
      "The global minimum:   -37.59447960097039\n",
      "1.49 s ± 206 ms per loop (mean ± std. dev. of 7 runs, 1 loop each)\n"
     ]
    }
   ],
   "source": [
    "%timeit get_min(13,'CG')"
   ]
  },
  {
   "cell_type": "code",
   "execution_count": 18,
   "id": "bbdf6322",
   "metadata": {},
   "outputs": [
    {
     "name": "stdout",
     "output_type": "stream",
     "text": [
      "step:  0   values: -15.117727570660161\n",
      "The global minimum:   -15.117727570660161\n",
      "step:  0   values: -16.116091601570393\n",
      "The global minimum:   -16.116091601570393\n",
      "step:  0   values: -13.796318085975889\n",
      "The global minimum:   -14.414463259677738\n",
      "step:  0   values: -17.459217144697735\n",
      "The global minimum:   -17.459217144697735\n",
      "step:  0   values: -14.651458892403168\n",
      "The global minimum:   -15.229574385649299\n",
      "step:  0   values: -15.428976226154987\n",
      "The global minimum:   -15.428976226154987\n",
      "step:  0   values: -13.245881594393426\n",
      "The global minimum:   -17.81209249625982\n",
      "step:  0   values: -17.773250841606174\n",
      "The global minimum:   -17.773250841606174\n",
      "1 s ± 102 ms per loop (mean ± std. dev. of 7 runs, 1 loop each)\n"
     ]
    }
   ],
   "source": [
    "%timeit get_min(13,'TNC')"
   ]
  },
  {
   "cell_type": "code",
   "execution_count": 15,
   "id": "1f876768",
   "metadata": {},
   "outputs": [
    {
     "name": "stdout",
     "output_type": "stream",
     "text": [
      "step:  0   values: -37.68292025372551\n",
      "The global minimum:   -37.68292025372551\n",
      "step:  0   values: -39.4289995631132\n",
      "The global minimum:   -39.4289995631132\n",
      "step:  0   values: -37.43771566431944\n",
      "The global minimum:   -37.43771566431944\n",
      "step:  0   values: -32.92746659892417\n",
      "The global minimum:   -38.37831202173158\n",
      "step:  0   values: -40.66894797612742\n",
      "The global minimum:   -40.66894797612742\n",
      "step:  0   values: -29.01968556239137\n",
      "The global minimum:   -38.63128711785599\n",
      "step:  0   values: -35.25593551025974\n",
      "The global minimum:   -35.25593551025974\n",
      "step:  0   values: -28.40029022093174\n",
      "The global minimum:   -37.73989960729051\n",
      "1.65 s ± 375 ms per loop (mean ± std. dev. of 7 runs, 1 loop each)\n"
     ]
    }
   ],
   "source": [
    "%timeit get_min(13,'Powell')"
   ]
  },
  {
   "cell_type": "code",
   "execution_count": 17,
   "id": "f43c50ea",
   "metadata": {},
   "outputs": [
    {
     "name": "stdout",
     "output_type": "stream",
     "text": [
      "step:  0   values: -37.83872214242061\n",
      "The global minimum:   -40.60458420122922\n",
      "step:  0   values: -36.255139294793054\n",
      "The global minimum:   -38.91066818562406\n",
      "step:  0   values: -38.836004003856196\n",
      "The global minimum:   -38.836004003856196\n",
      "step:  0   values: -37.614726446007644\n",
      "The global minimum:   -39.79660913931101\n",
      "step:  0   values: -9.103853540845686\n",
      "The global minimum:   -39.717147417815184\n",
      "step:  0   values: -41.47197984764065\n",
      "The global minimum:   -41.47197984764065\n",
      "step:  0   values: -39.43071596149362\n",
      "The global minimum:   -39.53705533711737\n",
      "step:  0   values: -41.47197984765666\n",
      "The global minimum:   -41.47197984765666\n",
      "789 ms ± 282 ms per loop (mean ± std. dev. of 7 runs, 1 loop each)\n"
     ]
    }
   ],
   "source": [
    "%timeit get_min(13,'BFGS')"
   ]
  }
 ],
 "metadata": {
  "kernelspec": {
   "display_name": "Python 3 (ipykernel)",
   "language": "python",
   "name": "python3"
  },
  "language_info": {
   "codemirror_mode": {
    "name": "ipython",
    "version": 3
   },
   "file_extension": ".py",
   "mimetype": "text/x-python",
   "name": "python",
   "nbconvert_exporter": "python",
   "pygments_lexer": "ipython3",
   "version": "3.9.12"
  }
 },
 "nbformat": 4,
 "nbformat_minor": 5
}
