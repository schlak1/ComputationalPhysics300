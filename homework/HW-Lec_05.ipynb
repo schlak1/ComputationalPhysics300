{
 "cells": [
  {
   "cell_type": "code",
   "execution_count": 58,
   "id": "5def6dec",
   "metadata": {},
   "outputs": [],
   "source": [
    "import numpy as np\n",
    "import matplotlib.pyplot as plt\n",
    "\n",
    "def Rectangle(start, end, parts, plot=1):\n",
    "    \"\"\"\n",
    "    Rectrangle sum rule\n",
    "    \n",
    "    \"\"\"\n",
    "    #define the function\n",
    "    f = lambda x: x**2 - x + 1  \n",
    "    \n",
    "    #define the X,Y points\n",
    "    deltax = (end - start) / parts\n",
    "    resultsx = np.linspace(start, end, parts)\n",
    "    resultsy = f(resultsx)\n",
    "    \n",
    "    # To calculate the area\n",
    "    area = np.empty([parts], float)\n",
    "    for i in range(parts):\n",
    "            area[i] = resultsy[i] * deltax\n",
    "    \n",
    "\n",
    "    # By default, we also output the plot.\n",
    "    if plot==1:\n",
    "        x = np.linspace(start,end,100)\n",
    "        y = f(x)          \n",
    "        plt.plot(x, y, 'r')\n",
    "        plt.xlim([start,end])\n",
    "        #plt.bar(resultsx+deltax/2, resultsy, deltax, edgecolor ='black')\n",
    "        plt.bar(resultsx, resultsy, deltax, edgecolor ='black')\n",
    "        plt.show()\n",
    "        print(\"The Sum of the area is: \", sum(area))\n",
    "    \n",
    "    return sum(area)"
   ]
  },
  {
   "cell_type": "code",
   "execution_count": 70,
   "id": "41eea4bb",
   "metadata": {},
   "outputs": [],
   "source": [
    "import numpy as np\n",
    "import matplotlib.pyplot as plt\n",
    "\n",
    "def Trapezoid(start, end, parts, plot=1):\n",
    "    \"\"\"\n",
    "    Trapezoid sum rule\n",
    "    \n",
    "    \"\"\"\n",
    "    #define the function\n",
    "    f = lambda x: x**2 - x + 1  \n",
    "    \n",
    "    #define the X, Y points \n",
    "    deltax = (end - start) / parts\n",
    "    resultsx = np.linspace(start, end, parts+1)\n",
    "    resultsy = f(resultsx)\n",
    "\n",
    "    # To calculate the area\n",
    "    area = np.empty([parts], float)\n",
    "    for i in range(parts):\n",
    "            area[i] = (resultsy[i]+resultsy[i+1]) * deltax/2\n",
    "\n",
    "    # By default, we also output the plot.pl\n",
    "    if plot==1:\n",
    "        x = np.linspace(start,end,100)\n",
    "        y = f(x)        \n",
    "        plt.plot(x, y, 'r')\n",
    "        plt.xlim([start,end])\n",
    "        \n",
    "        y2 = np.array([0,0])\n",
    "        for i in range(parts):\n",
    "            x0 = resultsx[i:i+2]\n",
    "            y1 = resultsy[i:i+2]\n",
    "            plt.fill_between(x0, y1, y2, where=y1>=y2, facecolor='blue')\n",
    "            linex, liney = [resultsx[i+1], resultsx[i+1]], [0, resultsy[i+1]]\n",
    "            plt.plot(linex, liney, color='black', linewidth=2.0)        \n",
    "        \n",
    "        plt.show()\n",
    "        print(\"The Sum of the area is: \", sum(area))\n",
    "    \n",
    "    return sum(area)"
   ]
  },
  {
   "cell_type": "code",
   "execution_count": 71,
   "id": "543823eb",
   "metadata": {},
   "outputs": [
    {
     "data": {
      "image/png": "[encoded data removed]",
      "text/plain": [
       "<Figure size 432x288 with 1 Axes>"
      ]
     },
     "metadata": {
      "needs_background": "light"
     },
     "output_type": "display_data"
    },
    {
     "name": "stdout",
     "output_type": "stream",
     "text": [
      "The Sum of the area is:  7.545454545454545\n"
     ]
    },
    {
     "data": {
      "image/png": "[encoded data removed]",
      "text/plain": [
       "<Figure size 432x288 with 1 Axes>"
      ]
     },
     "metadata": {
      "needs_background": "light"
     },
     "output_type": "display_data"
    },
    {
     "name": "stdout",
     "output_type": "stream",
     "text": [
      "The Sum of the area is:  7.500450000000001\n"
     ]
    },
    {
     "data": {
      "text/plain": [
       "7.500450000000001"
      ]
     },
     "execution_count": 71,
     "metadata": {},
     "output_type": "execute_result"
    }
   ],
   "source": [
    "Rectangle(0,3,100)\n",
    "Trapezoid(0,3,100)"
   ]
  },
  {
   "cell_type": "code",
   "execution_count": 312,
   "id": "1d89c6a0",
   "metadata": {},
   "outputs": [],
   "source": [
    "import numpy as np\n",
    "import matplotlib.pyplot as plt\n",
    "\n",
    "def Simpson(start, end, parts, plot=1):\n",
    "    \"\"\"\n",
    "    Simpson sum rule\n",
    "    \n",
    "    \"\"\"\n",
    "    #define the function\n",
    "    f = lambda x: x**2 - x + 1  \n",
    "    \n",
    "    #define the X, Y points \n",
    "    deltax = (end - start) / parts\n",
    "    resultsx = np.linspace(start, end, parts+1)\n",
    "    resultsy = f(resultsx)\n",
    "\n",
    "    #-----------------------------------------------------\n",
    "    #define the Simpson points and calculate the area here\n",
    "        # To calculate the area\n",
    "    h = deltax/2\n",
    "    area = np.empty([parts], float)\n",
    "    for i in range(parts):\n",
    "            area[i] = (1/3)*h*(resultsy[i]+(4*(f(resultsx[i]+h))+resultsy[i+1]))\n",
    "    #-----------------------------------------------------\n",
    "\n",
    "    #By default, we also output the plot.\n",
    "    if plot==1:\n",
    "        x = np.linspace(start,end,100)\n",
    "        y = f(x)        \n",
    "        plt.plot(x, y, 'r')\n",
    "        plt.xlim([start,end])\n",
    "        #-----------------------------------------------------\n",
    "        #draw the curves based on Simpson points here\n",
    "        y0 = lambda t: (A*t**2)+(B*t)+(resultsy[i]+h)\n",
    "            \n",
    "        y2 = np.array([0,0])\n",
    "        for i in range(parts):\n",
    "            A = (1/(h**2))*((resultsy[i]/2)-(f(resultsx[i]+h))+(resultsy[i+1]/2))\n",
    "            B = (1/(2*h))*(resultsy[i+1]-resultsy[i])\n",
    "            t = np.linspace(resultsx[i], resultsx[i+1], 100)\n",
    "            y1 = y0(t)\n",
    "            #print (A)\n",
    "        plt.plot(t, y1, 'r')\n",
    "        plt.xlim([start,end])\n",
    "            #for j in range(100):\n",
    "             #   y0 = (A*x0**2)+(B*x0)+(resultsy[j]+h)\n",
    "              #  plt.plot(x0, y0, 'r')                   \n",
    "            #plt.plot(x, (A*x**2)+(B*x)+(resultsy[i]+h), 'r')\n",
    "   #         x0 = resultsx[i:i+2]\n",
    "   #         y1 = resultsy[i:i+2]\n",
    "   #         plt.fill_between(x0, y1, y2, where=y1>=y2, facecolor='blue')\n",
    "   #         linex, liney = [resultsx[i+1], resultsx[i+1]], [0, resultsy[i+1]]\n",
    "   #         plt.plot(linex, liney, color='black', linewidth=2.0) \n",
    "        #-----------------------------------------------------             \n",
    "    \n",
    "        #plt.xlim([start,end])\n",
    "        #plt.ylim([min(y),max(y)])\n",
    "        #plt.show()\n",
    "    \n",
    "    return sum(area)\n"
   ]
  },
  {
   "cell_type": "code",
   "execution_count": 313,
   "id": "07002077",
   "metadata": {
    "scrolled": true
   },
   "outputs": [
    {
     "data": {
      "text/plain": [
       "7.499999999999997"
      ]
     },
     "execution_count": 313,
     "metadata": {},
     "output_type": "execute_result"
    },
    {
     "data": {
      "image/png": "[encoded data removed]",
      "text/plain": [
       "<Figure size 432x288 with 1 Axes>"
      ]
     },
     "metadata": {
      "needs_background": "light"
     },
     "output_type": "display_data"
    }
   ],
   "source": [
    "Simpson(0, 3, 100)"
   ]
  },
  {
   "cell_type": "code",
   "execution_count": null,
   "id": "f7240c8f",
   "metadata": {},
   "outputs": [],
   "source": []
  }
 ],
 "metadata": {
  "kernelspec": {
   "display_name": "Python 3 (ipykernel)",
   "language": "python",
   "name": "python3"
  },
  "language_info": {
   "codemirror_mode": {
    "name": "ipython",
    "version": 3
   },
   "file_extension": ".py",
   "mimetype": "text/x-python",
   "name": "python",
   "nbconvert_exporter": "python",
   "pygments_lexer": "ipython3",
   "version": "3.9.12"
  }
 },
 "nbformat": 4,
 "nbformat_minor": 5
}
