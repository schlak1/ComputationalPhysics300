{
 "cells": [
  {
   "cell_type": "code",
   "execution_count": 26,
   "id": "e4033cf3",
   "metadata": {},
   "outputs": [],
   "source": [
    "import numpy as np\n",
    "import matplotlib.pyplot as plt\n",
    "\n",
    "def Rectangle(start, end, parts, plot=1):\n",
    "    \"\"\"\n",
    "    Rectrangle sum rule\n",
    "    \n",
    "    \"\"\"\n",
    "    #define the function\n",
    "    f = lambda x: x**2 - x + 1  \n",
    "    \n",
    "    #define the X,Y points\n",
    "    deltax = (end - start) / parts\n",
    "    resultsx = np.linspace(start, end, parts)\n",
    "    resultsy = f(resultsx)\n",
    "    \n",
    "    # To calculate the area\n",
    "    area = np.empty([parts], float)\n",
    "    for i in range(parts):\n",
    "            area[i] = resultsy[i] * deltax\n",
    "    \n",
    "\n",
    "    # By default, we also output the plot.\n",
    "    if plot==1:\n",
    "        x = np.linspace(start,end,100)\n",
    "        y = f(x)          \n",
    "        plt.plot(x, y, 'r')\n",
    "        #plt.xlim([start,end])\n",
    "        plt.bar(resultsx+deltax/2, resultsy, deltax, edgecolor ='black')\n",
    "        #plt.bar(resultsx, resultsy, deltax, edgecolor ='black')\n",
    "        plt.show()\n",
    "        print(\"The Sum of the area is: \", sum(area))\n",
    "    \n",
    "    return sum(area)"
   ]
  },
  {
   "cell_type": "code",
   "execution_count": 27,
   "id": "37b95eb7",
   "metadata": {},
   "outputs": [],
   "source": [
    "import numpy as np\n",
    "import matplotlib.pyplot as plt\n",
    "\n",
    "def Trapezoid(start, end, parts, plot=1):\n",
    "    \"\"\"\n",
    "    Trapezoid sum rule\n",
    "    \n",
    "    \"\"\"\n",
    "    #define the function\n",
    "    f = lambda x: (x**2 - x + 1)  \n",
    "    \n",
    "    #define the X, Y points \n",
    "    deltax = (end - start) / parts\n",
    "    resultsx = np.linspace(start, end, parts+1)\n",
    "    resultsy = f(resultsx)\n",
    "\n",
    "    # To calculate the area\n",
    "    area = np.empty([parts], float)\n",
    "    for i in range(parts):\n",
    "            area[i] = (resultsy[i]+resultsy[i+1]) * deltax/2\n",
    "\n",
    "    # By default, we also output the plot.pl\n",
    "    if plot==1:\n",
    "        x = np.linspace(start,end,100)\n",
    "        y = f(x)        \n",
    "        plt.plot(x, y, 'r')\n",
    "        plt.xlim([start,end])\n",
    "        \n",
    "        y2 = np.array([0,0])\n",
    "        for i in range(parts):\n",
    "            x0 = resultsx[i:i+2]\n",
    "            y1 = resultsy[i:i+2]\n",
    "            plt.fill_between(x0, y1, y2, where=y1>=y2, facecolor='blue')\n",
    "            linex, liney = [resultsx[i+1], resultsx[i+1]], [0, resultsy[i+1]]\n",
    "            plt.plot(linex, liney, color='black', linewidth=2.0)        \n",
    "        \n",
    "        plt.show()\n",
    "        print(\"The Sum of the area is: \", sum(area))\n",
    "    \n",
    "    #return sum(area)"
   ]
  },
  {
   "cell_type": "code",
   "execution_count": 28,
   "id": "688723d6",
   "metadata": {},
   "outputs": [],
   "source": [
    "import numpy as np\n",
    "import matplotlib.pyplot as plt\n",
    "\n",
    "def Simpson(start, end, parts, plot=1):\n",
    "    \"\"\"\n",
    "    Simpson sum rule\n",
    "    \n",
    "    \"\"\"\n",
    "    #define the function\n",
    "    f = lambda x: x**2 - x + 1  \n",
    "    \n",
    "    #define the X, Y points \n",
    "    deltax = (end - start) / parts\n",
    "    resultsx = np.linspace(start, end, parts+1)\n",
    "    resultsy = f(resultsx)\n",
    "\n",
    "    #-----------------------------------------------------\n",
    "    #define the Simpson points and calculate the area here\n",
    "        # To calculate the area\n",
    "    h = deltax/2\n",
    "    area = np.empty([parts], float)\n",
    "    for i in range(parts):\n",
    "            area[i] = (1/3)*h*(resultsy[i]+(4*(f(resultsx[i]+h))+resultsy[i+1]))\n",
    "    #-----------------------------------------------------\n",
    "\n",
    "    #By default, we also output the plot.\n",
    "    if plot==1:\n",
    "        x = np.linspace(start,end,100)\n",
    "        y = f(x)        \n",
    "        plt.plot(x, y, 'r')\n",
    "        plt.xlim([start,end])\n",
    "        #-----------------------------------------------------\n",
    "        #draw the curves based on Simpson points here\n",
    "            \n",
    "        for i in range(parts):\n",
    "            #A = (1/(h**2))*((resultsy[i]/2)-(f(resultsx[i]+h))+(resultsy[i+1]/2))\n",
    "            #B = (1/(2*h))*(resultsy[i+1]-resultsy[i])\n",
    "            #y0 = lambda t: (A*(t**2))+(B*t)+(f(resultsx[i]+h))\n",
    "            t = np.linspace(resultsx[i], resultsx[i+1], 3)\n",
    "            #y3 = y0(t)\n",
    "            plt.plot(t, f(t), 'bo')\n",
    "        plt.xlim([start,end])\n",
    "        y2 = np.array([0,0])\n",
    "        for i in range(parts):\n",
    "            x0 = resultsx[i:i+2]\n",
    "            y1 = resultsy[i:i+2]\n",
    "            linex, liney = [resultsx[i+1], resultsx[i+1]], [0, resultsy[i+1]]\n",
    "            plt.plot(linex, liney, color='black', linewidth=2.0)  \n",
    "        #-----------------------------------------------------             \n",
    "    \n",
    "\n",
    "        plt.show()\n",
    "    print(\"The Sum of the area is: \", sum(area))\n"
   ]
  },
  {
   "cell_type": "code",
   "execution_count": 29,
   "id": "1c6cede6",
   "metadata": {},
   "outputs": [
    {
     "data": {
      "image/png": "[encoded data removed]",
      "text/plain": [
       "<Figure size 432x288 with 1 Axes>"
      ]
     },
     "metadata": {
      "needs_background": "light"
     },
     "output_type": "display_data"
    },
    {
     "name": "stdout",
     "output_type": "stream",
     "text": [
      "The Sum of the area is:  7.999999999999998\n"
     ]
    },
    {
     "data": {
      "image/png": "[encoded data removed]",
      "text/plain": [
       "<Figure size 432x288 with 1 Axes>"
      ]
     },
     "metadata": {
      "needs_background": "light"
     },
     "output_type": "display_data"
    },
    {
     "name": "stdout",
     "output_type": "stream",
     "text": [
      "The Sum of the area is:  7.544999999999999\n"
     ]
    },
    {
     "data": {
      "image/png": "[encoded data removed]",
      "text/plain": [
       "<Figure size 432x288 with 1 Axes>"
      ]
     },
     "metadata": {
      "needs_background": "light"
     },
     "output_type": "display_data"
    },
    {
     "name": "stdout",
     "output_type": "stream",
     "text": [
      "The Sum of the area is:  7.499999999999998\n"
     ]
    }
   ],
   "source": [
    "Rectangle(0,3,10)\n",
    "Trapezoid(0,3,10)\n",
    "Simpson(0, 3, 10)\n",
    "#This function only requires 3 points for the simpson rule to work as can be seen if the parts value is set to one\n",
    "#as if the parts value is set two one only 3 points are used, one at x=0, one at x=3, and one at x=1.5"
   ]
  },
  {
   "cell_type": "code",
   "execution_count": 11,
   "id": "c1f7e21c",
   "metadata": {},
   "outputs": [],
   "source": [
    "import numpy as np\n",
    "import matplotlib.pyplot as plt\n",
    "\n",
    "def Rectangle(start, end, parts, plot=1):\n",
    "    \"\"\"\n",
    "    Rectrangle sum rule\n",
    "    \n",
    "    \"\"\"\n",
    "    #define the function\n",
    "    f = lambda x: x**4 - x + 1  \n",
    "    \n",
    "    #define the X,Y points\n",
    "    deltax = (end - start) / parts\n",
    "    resultsx = np.linspace(start, end, parts)\n",
    "    resultsy = f(resultsx)\n",
    "    \n",
    "    # To calculate the area\n",
    "    area = np.empty([parts], float)\n",
    "    for i in range(parts):\n",
    "            area[i] = resultsy[i] * deltax\n",
    "    \n",
    "\n",
    "    # By default, we also output the plot.\n",
    "    if plot==1:\n",
    "        x = np.linspace(start,end,100)\n",
    "        y = f(x)          \n",
    "        plt.plot(x, y, 'r')\n",
    "        #plt.xlim([start,end])\n",
    "        plt.bar(resultsx+deltax/2, resultsy, deltax, edgecolor ='black')\n",
    "        #plt.bar(resultsx, resultsy, deltax, edgecolor ='black')\n",
    "        plt.show()\n",
    "        print(\"The Sum of the area is: \", sum(area))\n",
    "    \n",
    "    return sum(area)"
   ]
  },
  {
   "cell_type": "code",
   "execution_count": 12,
   "id": "5792953d",
   "metadata": {},
   "outputs": [],
   "source": [
    "import numpy as np\n",
    "import matplotlib.pyplot as plt\n",
    "\n",
    "def Trapezoid(start, end, parts, plot=1):\n",
    "    \"\"\"\n",
    "    Trapezoid sum rule\n",
    "    \n",
    "    \"\"\"\n",
    "    #define the function\n",
    "    f = lambda x: x**4 - x + 1  \n",
    "    \n",
    "    #define the X, Y points \n",
    "    deltax = (end - start) / parts\n",
    "    resultsx = np.linspace(start, end, parts+1)\n",
    "    resultsy = f(resultsx)\n",
    "\n",
    "    # To calculate the area\n",
    "    area = np.empty([parts], float)\n",
    "    for i in range(parts):\n",
    "            area[i] = (resultsy[i]+resultsy[i+1]) * deltax/2\n",
    "\n",
    "    # By default, we also output the plot.pl\n",
    "    if plot==1:\n",
    "        x = np.linspace(start,end,100)\n",
    "        y = f(x)        \n",
    "        plt.plot(x, y, 'r')\n",
    "        plt.xlim([start,end])\n",
    "        \n",
    "        y2 = np.array([0,0])\n",
    "        for i in range(parts):\n",
    "            x0 = resultsx[i:i+2]\n",
    "            y1 = resultsy[i:i+2]\n",
    "            plt.fill_between(x0, y1, y2, where=y1>=y2, facecolor='blue')\n",
    "            linex, liney = [resultsx[i+1], resultsx[i+1]], [0, resultsy[i+1]]\n",
    "            plt.plot(linex, liney, color='black', linewidth=2.0)        \n",
    "        \n",
    "        plt.show()\n",
    "        print(\"The Sum of the area is: \", sum(area))\n",
    "    \n",
    "    #return sum(area)"
   ]
  },
  {
   "cell_type": "code",
   "execution_count": 13,
   "id": "516a79dd",
   "metadata": {},
   "outputs": [],
   "source": [
    "import numpy as np\n",
    "import matplotlib.pyplot as plt\n",
    "\n",
    "def Simpson(start, end, parts, plot=1):\n",
    "    \"\"\"\n",
    "    Simpson sum rule\n",
    "    \n",
    "    \"\"\"\n",
    "    #define the function\n",
    "    f = lambda x: x**4 - x + 1  \n",
    "    \n",
    "    #define the X, Y points \n",
    "    deltax = (end - start) / parts\n",
    "    resultsx = np.linspace(start, end, parts+1)\n",
    "    resultsy = f(resultsx)\n",
    "\n",
    "    #-----------------------------------------------------\n",
    "    #define the Simpson points and calculate the area here\n",
    "        # To calculate the area\n",
    "    h = deltax/2\n",
    "    area = np.empty([parts], float)\n",
    "    for i in range(parts):\n",
    "            area[i] = (1/3)*h*(resultsy[i]+(4*(f(resultsx[i]+h))+resultsy[i+1]))\n",
    "    #-----------------------------------------------------\n",
    "\n",
    "    #By default, we also output the plot.\n",
    "    if plot==1:\n",
    "        x = np.linspace(start,end,100)\n",
    "        y = f(x)        \n",
    "        plt.plot(x, y, 'r')\n",
    "        plt.xlim([start,end])\n",
    "        #-----------------------------------------------------\n",
    "        #draw the curves based on Simpson points here\n",
    "            \n",
    "        for i in range(parts):\n",
    "            #A = (1/(h**2))*((resultsy[i]/2)-(f(resultsx[i]+h))+(resultsy[i+1]/2))\n",
    "            #B = (1/(2*h))*(resultsy[i+1]-resultsy[i])\n",
    "            #y0 = lambda t: (A*(t**2))+(B*t)+(f(resultsx[i]+h))\n",
    "            t = np.linspace(resultsx[i], resultsx[i+1], 3)\n",
    "            #y3 = y0(t)\n",
    "            plt.plot(t, f(t), 'bo')\n",
    "        plt.xlim([start,end])\n",
    "        y2 = np.array([0,0])\n",
    "        for i in range(parts):\n",
    "            x0 = resultsx[i:i+2]\n",
    "            y1 = resultsy[i:i+2]\n",
    "            linex, liney = [resultsx[i+1], resultsx[i+1]], [0, resultsy[i+1]]\n",
    "            plt.plot(linex, liney, color='black', linewidth=2.0)  \n",
    "        #-----------------------------------------------------             \n",
    "    \n",
    "\n",
    "        plt.show()\n",
    "    print(\"The Sum of the area is: \", sum(area))\n"
   ]
  },
  {
   "cell_type": "code",
   "execution_count": 14,
   "id": "5e3f8136",
   "metadata": {},
   "outputs": [
    {
     "data": {
      "image/png": "[encoded data removed]",
      "text/plain": [
       "<Figure size 432x288 with 1 Axes>"
      ]
     },
     "metadata": {
      "needs_background": "light"
     },
     "output_type": "display_data"
    },
    {
     "name": "stdout",
     "output_type": "stream",
     "text": [
      "The Sum of the area is:  55.28888888888888\n"
     ]
    },
    {
     "data": {
      "image/png": "[encoded data removed]",
      "text/plain": [
       "<Figure size 432x288 with 1 Axes>"
      ]
     },
     "metadata": {
      "needs_background": "light"
     },
     "output_type": "display_data"
    },
    {
     "name": "stdout",
     "output_type": "stream",
     "text": [
      "The Sum of the area is:  47.909189999999995\n"
     ]
    },
    {
     "data": {
      "image/png": "[encoded data removed]",
      "text/plain": [
       "<Figure size 432x288 with 1 Axes>"
      ]
     },
     "metadata": {
      "needs_background": "light"
     },
     "output_type": "display_data"
    },
    {
     "name": "stdout",
     "output_type": "stream",
     "text": [
      "The Sum of the area is:  47.10020249999998\n"
     ]
    }
   ],
   "source": [
    "Rectangle(0,3,10)\n",
    "Trapezoid(0,3,10)\n",
    "Simpson(0, 3, 10)"
   ]
  },
  {
   "cell_type": "code",
   "execution_count": 15,
   "id": "d4d95ef7",
   "metadata": {},
   "outputs": [],
   "source": [
    "import numpy as np\n",
    "import matplotlib.pyplot as plt\n",
    "import math\n",
    "\n",
    "def Rectangle(start, end, parts, plot=1):\n",
    "    \"\"\"\n",
    "    Rectrangle sum rule\n",
    "    \n",
    "    \"\"\"\n",
    "    #define the function\n",
    "    f = lambda x: math.e**(-x**2)  \n",
    "    \n",
    "    #define the X,Y points\n",
    "    deltax = (end - start) / parts\n",
    "    resultsx = np.linspace(start, end, parts)\n",
    "    resultsy = f(resultsx)\n",
    "    \n",
    "    # To calculate the area\n",
    "    area = np.empty([parts], float)\n",
    "    for i in range(parts):\n",
    "            area[i] = resultsy[i] * deltax\n",
    "    \n",
    "\n",
    "    # By default, we also output the plot.\n",
    "    if plot==1:\n",
    "        x = np.linspace(start,end,100)\n",
    "        y = f(x)          \n",
    "        plt.plot(x, y, 'r')\n",
    "        #plt.xlim([start,end])\n",
    "        plt.bar(resultsx+deltax/2, resultsy, deltax, edgecolor ='black')\n",
    "        #plt.bar(resultsx, resultsy, deltax, edgecolor ='black')\n",
    "        plt.show()\n",
    "        print(\"The Sum of the area is: \", sum(area))\n",
    "    \n",
    "    return sum(area)"
   ]
  },
  {
   "cell_type": "code",
   "execution_count": 16,
   "id": "2e554be2",
   "metadata": {},
   "outputs": [],
   "source": [
    "import numpy as np\n",
    "import matplotlib.pyplot as plt\n",
    "\n",
    "def Trapezoid(start, end, parts, plot=1):\n",
    "    \"\"\"\n",
    "    Trapezoid sum rule\n",
    "    \n",
    "    \"\"\"\n",
    "    #define the function\n",
    "    f = lambda x: math.e**(-x**2)  \n",
    "    \n",
    "    #define the X, Y points \n",
    "    deltax = (end - start) / parts\n",
    "    resultsx = np.linspace(start, end, parts+1)\n",
    "    resultsy = f(resultsx)\n",
    "\n",
    "    # To calculate the area\n",
    "    area = np.empty([parts], float)\n",
    "    for i in range(parts):\n",
    "            area[i] = (resultsy[i]+resultsy[i+1]) * deltax/2\n",
    "\n",
    "    # By default, we also output the plot.pl\n",
    "    if plot==1:\n",
    "        x = np.linspace(start,end,100)\n",
    "        y = f(x)        \n",
    "        plt.plot(x, y, 'r')\n",
    "        plt.xlim([start,end])\n",
    "        \n",
    "        y2 = np.array([0,0])\n",
    "        for i in range(parts):\n",
    "            x0 = resultsx[i:i+2]\n",
    "            y1 = resultsy[i:i+2]\n",
    "            plt.fill_between(x0, y1, y2, where=y1>=y2, facecolor='blue')\n",
    "            linex, liney = [resultsx[i+1], resultsx[i+1]], [0, resultsy[i+1]]\n",
    "            plt.plot(linex, liney, color='black', linewidth=2.0)        \n",
    "        \n",
    "        plt.show()\n",
    "        print(\"The Sum of the area is: \", sum(area))\n",
    "    \n",
    "    #return sum(area)"
   ]
  },
  {
   "cell_type": "code",
   "execution_count": 17,
   "id": "8de630fc",
   "metadata": {},
   "outputs": [],
   "source": [
    "import numpy as np\n",
    "import matplotlib.pyplot as plt\n",
    "\n",
    "def Simpson(start, end, parts, plot=1):\n",
    "    \"\"\"\n",
    "    Simpson sum rule\n",
    "    \n",
    "    \"\"\"\n",
    "    #define the function\n",
    "    f = lambda x: math.e**(-x**2)  \n",
    "    \n",
    "   #define the X, Y points \n",
    "    deltax = (end - start) / parts\n",
    "    resultsx = np.linspace(start, end, parts+1)\n",
    "    resultsy = f(resultsx)\n",
    "\n",
    "    #-----------------------------------------------------\n",
    "    #define the Simpson points and calculate the area here\n",
    "        # To calculate the area\n",
    "    h = deltax/2\n",
    "    area = np.empty([parts], float)\n",
    "    for i in range(parts):\n",
    "            area[i] = (1/3)*h*(resultsy[i]+(4*(f(resultsx[i]+h))+resultsy[i+1]))\n",
    "    #-----------------------------------------------------\n",
    "\n",
    "    #By default, we also output the plot.\n",
    "    if plot==1:\n",
    "        x = np.linspace(start,end,100)\n",
    "        y = f(x)        \n",
    "        plt.plot(x, y, 'r')\n",
    "        plt.xlim([start,end])\n",
    "        #-----------------------------------------------------\n",
    "        #draw the curves based on Simpson points here\n",
    "            \n",
    "        for i in range(parts):\n",
    "            #A = (1/(h**2))*((resultsy[i]/2)-(f(resultsx[i]+h))+(resultsy[i+1]/2))\n",
    "            #B = (1/(2*h))*(resultsy[i+1]-resultsy[i])\n",
    "            #y0 = lambda t: (A*(t**2))+(B*t)+(f(resultsx[i]+h))\n",
    "            t = np.linspace(resultsx[i], resultsx[i+1], 3)\n",
    "            #y3 = y0(t)\n",
    "            plt.plot(t, f(t), 'bo')\n",
    "        plt.xlim([start,end])\n",
    "        y2 = np.array([0,0])\n",
    "        for i in range(parts):\n",
    "            x0 = resultsx[i:i+2]\n",
    "            y1 = resultsy[i:i+2]\n",
    "            linex, liney = [resultsx[i+1], resultsx[i+1]], [0, resultsy[i+1]]\n",
    "            plt.plot(linex, liney, color='black', linewidth=2.0)  \n",
    "        #-----------------------------------------------------             \n",
    "    \n",
    "\n",
    "        plt.show()\n",
    "    print(\"The Sum of the area is: \", sum(area))\n"
   ]
  },
  {
   "cell_type": "code",
   "execution_count": 18,
   "id": "37598f3c",
   "metadata": {},
   "outputs": [
    {
     "data": {
      "image/png": "[encoded data removed]",
      "text/plain": [
       "<Figure size 432x288 with 1 Axes>"
      ]
     },
     "metadata": {
      "needs_background": "light"
     },
     "output_type": "display_data"
    },
    {
     "name": "stdout",
     "output_type": "stream",
     "text": [
      "The Sum of the area is:  0.9475992785537809\n"
     ]
    },
    {
     "data": {
      "image/png": "[encoded data removed]",
      "text/plain": [
       "<Figure size 432x288 with 1 Axes>"
      ]
     },
     "metadata": {
      "needs_background": "light"
     },
     "output_type": "display_data"
    },
    {
     "name": "stdout",
     "output_type": "stream",
     "text": [
      "The Sum of the area is:  0.8862020336373999\n"
     ]
    },
    {
     "data": {
      "image/png": "[encoded data removed]",
      "text/plain": [
       "<Figure size 432x288 with 1 Axes>"
      ]
     },
     "metadata": {
      "needs_background": "light"
     },
     "output_type": "display_data"
    },
    {
     "name": "stdout",
     "output_type": "stream",
     "text": [
      "The Sum of the area is:  0.8862072892434228\n"
     ]
    }
   ],
   "source": [
    "Rectangle(0,3,10)\n",
    "Trapezoid(0,3,10)\n",
    "Simpson(0, 3, 10)"
   ]
  },
  {
   "cell_type": "code",
   "execution_count": null,
   "id": "5419fd7a",
   "metadata": {},
   "outputs": [],
   "source": []
  }
 ],
 "metadata": {
  "kernelspec": {
   "display_name": "Python 3 (ipykernel)",
   "language": "python",
   "name": "python3"
  },
  "language_info": {
   "codemirror_mode": {
    "name": "ipython",
    "version": 3
   },
   "file_extension": ".py",
   "mimetype": "text/x-python",
   "name": "python",
   "nbconvert_exporter": "python",
   "pygments_lexer": "ipython3",
   "version": "3.9.12"
  }
 },
 "nbformat": 4,
 "nbformat_minor": 5
}
