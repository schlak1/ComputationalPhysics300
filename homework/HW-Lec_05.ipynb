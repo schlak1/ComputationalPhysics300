{
 "cells": [
  {
   "cell_type": "code",
   "execution_count": 58,
   "id": "9f5493bf",
   "metadata": {},
   "outputs": [],
   "source": [
    "import numpy as np\n",
    "import matplotlib.pyplot as plt\n",
    "\n",
    "def Rectangle(start, end, parts, plot=1):\n",
    "    \"\"\"\n",
    "    Rectrangle sum rule\n",
    "    \n",
    "    \"\"\"\n",
    "    #define the function\n",
    "    f = lambda x: x**2 - x + 1  \n",
    "    \n",
    "    #define the X,Y points\n",
    "    deltax = (end - start) / parts\n",
    "    resultsx = np.linspace(start, end, parts)\n",
    "    resultsy = f(resultsx)\n",
    "    \n",
    "    # To calculate the area\n",
    "    area = np.empty([parts], float)\n",
    "    for i in range(parts):\n",
    "            area[i] = resultsy[i] * deltax\n",
    "    \n",
    "\n",
    "    # By default, we also output the plot.\n",
    "    if plot==1:\n",
    "        x = np.linspace(start,end,100)\n",
    "        y = f(x)          \n",
    "        plt.plot(x, y, 'r')\n",
    "        plt.xlim([start,end])\n",
    "        #plt.bar(resultsx+deltax/2, resultsy, deltax, edgecolor ='black')\n",
    "        plt.bar(resultsx, resultsy, deltax, edgecolor ='black')\n",
    "        plt.show()\n",
    "        print(\"The Sum of the area is: \", sum(area))\n",
    "    \n",
    "    return sum(area)"
   ]
  },
  {
   "cell_type": "code",
   "execution_count": 70,
   "id": "158bb60c",
   "metadata": {},
   "outputs": [],
   "source": [
    "import numpy as np\n",
    "import matplotlib.pyplot as plt\n",
    "\n",
    "def Trapezoid(start, end, parts, plot=1):\n",
    "    \"\"\"\n",
    "    Trapezoid sum rule\n",
    "    \n",
    "    \"\"\"\n",
    "    #define the function\n",
    "    f = lambda x: x**2 - x + 1  \n",
    "    \n",
    "    #define the X, Y points \n",
    "    deltax = (end - start) / parts\n",
    "    resultsx = np.linspace(start, end, parts+1)\n",
    "    resultsy = f(resultsx)\n",
    "\n",
    "    # To calculate the area\n",
    "    area = np.empty([parts], float)\n",
    "    for i in range(parts):\n",
    "            area[i] = (resultsy[i]+resultsy[i+1]) * deltax/2\n",
    "\n",
    "    # By default, we also output the plot.pl\n",
    "    if plot==1:\n",
    "        x = np.linspace(start,end,100)\n",
    "        y = f(x)        \n",
    "        plt.plot(x, y, 'r')\n",
    "        plt.xlim([start,end])\n",
    "        \n",
    "        y2 = np.array([0,0])\n",
    "        for i in range(parts):\n",
    "            x0 = resultsx[i:i+2]\n",
    "            y1 = resultsy[i:i+2]\n",
    "            plt.fill_between(x0, y1, y2, where=y1>=y2, facecolor='blue')\n",
    "            linex, liney = [resultsx[i+1], resultsx[i+1]], [0, resultsy[i+1]]\n",
    "            plt.plot(linex, liney, color='black', linewidth=2.0)        \n",
    "        \n",
    "        plt.show()\n",
    "        print(\"The Sum of the area is: \", sum(area))\n",
    "    \n",
    "    return sum(area)"
   ]
  },
  {
   "cell_type": "code",
   "execution_count": 71,
   "id": "2f6b1b85",
   "metadata": {},
   "outputs": [
    {
     "data": {
      "image/png": "[encoded data removed]",
      "text/plain": [
       "<Figure size 432x288 with 1 Axes>"
      ]
     },
     "metadata": {
      "needs_background": "light"
     },
     "output_type": "display_data"
    },
    {
     "name": "stdout",
     "output_type": "stream",
     "text": [
      "The Sum of the area is:  7.545454545454545\n"
     ]
    },
    {
     "data": {
      "image/png": "[encoded data removed]",
      "text/plain": [
       "<Figure size 432x288 with 1 Axes>"
      ]
     },
     "metadata": {
      "needs_background": "light"
     },
     "output_type": "display_data"
    },
    {
     "name": "stdout",
     "output_type": "stream",
     "text": [
      "The Sum of the area is:  7.500450000000001\n"
     ]
    },
    {
     "data": {
      "text/plain": [
       "7.500450000000001"
      ]
     },
     "execution_count": 71,
     "metadata": {},
     "output_type": "execute_result"
    }
   ],
   "source": [
    "Rectangle(0,3,100)\n",
    "Trapezoid(0,3,100)"
   ]
  },
  {
   "cell_type": "code",
   "execution_count": 233,
   "id": "5e56ee8a",
   "metadata": {},
   "outputs": [],
   "source": [
    "import numpy as np\n",
    "import matplotlib.pyplot as plt\n",
    "\n",
    "def Simpson(start, end, parts, plot=1):\n",
    "    \"\"\"\n",
    "    Simpson sum rule\n",
    "    \n",
    "    \"\"\"\n",
    "    #define the function\n",
    "    f = lambda x: x**2 - x + 1  \n",
    "    \n",
    "    #define the X, Y points \n",
    "    deltax = (end - start) / parts\n",
    "    resultsx = np.linspace(start, end, parts+1)\n",
    "    resultsy = f(resultsx)\n",
    "\n",
    "    #-----------------------------------------------------\n",
    "    #define the Simpson points and calculate the area here\n",
    "        # To calculate the area\n",
    "    h = deltax/2\n",
    "    area = np.empty([parts], float)\n",
    "    for i in range(parts):\n",
    "            area[i] = (1/3)*h*(resultsy[i]+(4*(resultsy[i]+h)+resultsy[i+1]))\n",
    "    #-----------------------------------------------------\n",
    "\n",
    "    #By default, we also output the plot.\n",
    "    if plot==1:\n",
    "        x = np.linspace(start,end,100)\n",
    "        y = f(x)        \n",
    "        plt.plot(x, y, 'r')\n",
    "        plt.xlim([start,end])\n",
    "        #-----------------------------------------------------\n",
    "        #draw the curves based on Simpson points here\n",
    "        y0 = lambda t: (A*t**2)+(B*t)+(resultsy[i]+h)\n",
    "            \n",
    "        y2 = np.array([0,0])\n",
    "        for i in range(parts):\n",
    "            A = (1/(h**2))*((resultsy[i]/2)-(resultsy[i]+h)+(resultsy[i+1]/2))\n",
    "            B = (1/(2*h))*(resultsy[i+1]-resultsy[i])\n",
    "            t = np.linspace(resultsy[i], resultsy[i+1], 100)\n",
    "            y1 = y0(t)\n",
    "            print (B)\n",
    "        plt.plot(t, y1, 'r')\n",
    "        plt.xlim([start,end])\n",
    "            #for j in range(100):\n",
    "             #   y0 = (A*x0**2)+(B*x0)+(resultsy[j]+h)\n",
    "              #  plt.plot(x0, y0, 'r')                   \n",
    "            #plt.plot(x, (A*x**2)+(B*x)+(resultsy[i]+h), 'r')\n",
    "   #         x0 = resultsx[i:i+2]\n",
    "   #         y1 = resultsy[i:i+2]\n",
    "   #         plt.fill_between(x0, y1, y2, where=y1>=y2, facecolor='blue')\n",
    "   #         linex, liney = [resultsx[i+1], resultsx[i+1]], [0, resultsy[i+1]]\n",
    "   #         plt.plot(linex, liney, color='black', linewidth=2.0) \n",
    "        #-----------------------------------------------------             \n",
    "    \n",
    "        #plt.xlim([start,end])\n",
    "        #plt.ylim([min(y),max(y)])\n",
    "        #plt.show()\n",
    "    \n",
    "    return sum(area)\n"
   ]
  },
  {
   "cell_type": "code",
   "execution_count": 234,
   "id": "5e984cfa",
   "metadata": {
    "scrolled": true
   },
   "outputs": [
    {
     "name": "stdout",
     "output_type": "stream",
     "text": [
      "-0.9700000000000005\n",
      "-0.9099999999999998\n",
      "-0.849999999999999\n",
      "-0.7900000000000019\n",
      "-0.7299999999999973\n",
      "-0.6700000000000003\n",
      "-0.6099999999999994\n",
      "-0.5500000000000024\n",
      "-0.4900000000000016\n",
      "-0.4299999999999971\n",
      "-0.37\n",
      "-0.30999999999999917\n",
      "-0.2500000000000021\n",
      "-0.19000000000000128\n",
      "-0.1300000000000005\n",
      "-0.0699999999999997\n",
      "-0.009999999999998899\n",
      "0.0500000000000019\n",
      "0.109999999999999\n",
      "0.1699999999999998\n",
      "0.2300000000000006\n",
      "0.2899999999999977\n",
      "0.3500000000000022\n",
      "0.4099999999999993\n",
      "0.4700000000000001\n",
      "0.5300000000000009\n",
      "0.589999999999998\n",
      "0.6499999999999988\n",
      "0.7100000000000033\n",
      "0.7699999999999967\n",
      "0.8300000000000012\n",
      "0.890000000000002\n",
      "0.9499999999999991\n",
      "1.0099999999999998\n",
      "1.0700000000000007\n",
      "1.1300000000000014\n",
      "1.1899999999999948\n",
      "1.250000000000003\n",
      "1.3099999999999965\n",
      "1.3700000000000045\n",
      "1.429999999999998\n",
      "1.4900000000000062\n",
      "1.5499999999999996\n",
      "1.6099999999999857\n",
      "1.6700000000000013\n",
      "1.730000000000002\n",
      "1.790000000000003\n",
      "1.8500000000000036\n",
      "1.909999999999997\n",
      "1.9700000000000053\n",
      "2.0299999999999985\n",
      "2.090000000000007\n",
      "2.149999999999978\n",
      "2.210000000000001\n",
      "2.2700000000000093\n",
      "2.3299999999999876\n",
      "2.390000000000011\n",
      "2.450000000000019\n",
      "2.5099999999999976\n",
      "2.5699999999999763\n",
      "2.629999999999999\n",
      "2.6900000000000075\n",
      "2.7500000000000155\n",
      "2.8099999999999943\n",
      "2.8700000000000023\n",
      "2.9299999999999957\n",
      "2.9899999999999745\n",
      "3.050000000000027\n",
      "3.1099999999999905\n",
      "3.1700000000000137\n",
      "3.2299999999999778\n",
      "3.2900000000000302\n",
      "3.349999999999994\n",
      "3.4099999999999726\n",
      "3.470000000000025\n",
      "3.529999999999989\n",
      "3.589999999999997\n",
      "3.6499999999999906\n",
      "3.7100000000000284\n",
      "3.7699999999999774\n",
      "3.8299999999999854\n",
      "3.890000000000023\n",
      "3.949999999999972\n",
      "4.010000000000069\n",
      "4.069999999999959\n",
      "4.1300000000000265\n",
      "4.1899999999999755\n",
      "4.249999999999954\n",
      "4.310000000000051\n",
      "4.369999999999941\n",
      "4.430000000000038\n",
      "4.489999999999987\n",
      "4.550000000000054\n",
      "4.609999999999944\n",
      "4.670000000000071\n",
      "4.7299999999999605\n",
      "4.789999999999939\n",
      "4.850000000000065\n",
      "4.909999999999956\n",
      "4.970000000000052\n"
     ]
    },
    {
     "data": {
      "text/plain": [
       "7.470449999999999"
      ]
     },
     "execution_count": 234,
     "metadata": {},
     "output_type": "execute_result"
    },
    {
     "data": {
      "image/png": "[encoded data removed]",
      "text/plain": [
       "<Figure size 432x288 with 1 Axes>"
      ]
     },
     "metadata": {
      "needs_background": "light"
     },
     "output_type": "display_data"
    }
   ],
   "source": [
    "Simpson(0, 3, 100)"
   ]
  },
  {
   "cell_type": "code",
   "execution_count": null,
   "id": "262818b2",
   "metadata": {},
   "outputs": [],
   "source": []
  },
  {
   "cell_type": "code",
   "execution_count": null,
   "id": "a3ccf5c1",
   "metadata": {},
   "outputs": [],
   "source": []
  }
 ],
 "metadata": {
  "kernelspec": {
   "display_name": "Python 3 (ipykernel)",
   "language": "python",
   "name": "python3"
  },
  "language_info": {
   "codemirror_mode": {
    "name": "ipython",
    "version": 3
   },
   "file_extension": ".py",
   "mimetype": "text/x-python",
   "name": "python",
   "nbconvert_exporter": "python",
   "pygments_lexer": "ipython3",
   "version": "3.9.12"
  }
 },
 "nbformat": 4,
 "nbformat_minor": 5
}
