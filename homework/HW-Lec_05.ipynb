{
 "cells": [
  {
   "cell_type": "code",
   "execution_count": 58,
   "id": "0eed5c4a",
   "metadata": {},
   "outputs": [],
   "source": [
    "import numpy as np\n",
    "import matplotlib.pyplot as plt\n",
    "\n",
    "def Rectangle(start, end, parts, plot=1):\n",
    "    \"\"\"\n",
    "    Rectrangle sum rule\n",
    "    \n",
    "    \"\"\"\n",
    "    #define the function\n",
    "    f = lambda x: x**2 - x + 1  \n",
    "    \n",
    "    #define the X,Y points\n",
    "    deltax = (end - start) / parts\n",
    "    resultsx = np.linspace(start, end, parts)\n",
    "    resultsy = f(resultsx)\n",
    "    \n",
    "    # To calculate the area\n",
    "    area = np.empty([parts], float)\n",
    "    for i in range(parts):\n",
    "            area[i] = resultsy[i] * deltax\n",
    "    \n",
    "\n",
    "    # By default, we also output the plot.\n",
    "    if plot==1:\n",
    "        x = np.linspace(start,end,100)\n",
    "        y = f(x)          \n",
    "        plt.plot(x, y, 'r')\n",
    "        plt.xlim([start,end])\n",
    "        #plt.bar(resultsx+deltax/2, resultsy, deltax, edgecolor ='black')\n",
    "        plt.bar(resultsx, resultsy, deltax, edgecolor ='black')\n",
    "        plt.show()\n",
    "        print(\"The Sum of the area is: \", sum(area))\n",
    "    \n",
    "    return sum(area)"
   ]
  },
  {
   "cell_type": "code",
   "execution_count": 70,
   "id": "22eef9c9",
   "metadata": {},
   "outputs": [],
   "source": [
    "import numpy as np\n",
    "import matplotlib.pyplot as plt\n",
    "\n",
    "def Trapezoid(start, end, parts, plot=1):\n",
    "    \"\"\"\n",
    "    Trapezoid sum rule\n",
    "    \n",
    "    \"\"\"\n",
    "    #define the function\n",
    "    f = lambda x: x**2 - x + 1  \n",
    "    \n",
    "    #define the X, Y points \n",
    "    deltax = (end - start) / parts\n",
    "    resultsx = np.linspace(start, end, parts+1)\n",
    "    resultsy = f(resultsx)\n",
    "\n",
    "    # To calculate the area\n",
    "    area = np.empty([parts], float)\n",
    "    for i in range(parts):\n",
    "            area[i] = (resultsy[i]+resultsy[i+1]) * deltax/2\n",
    "\n",
    "    # By default, we also output the plot.pl\n",
    "    if plot==1:\n",
    "        x = np.linspace(start,end,100)\n",
    "        y = f(x)        \n",
    "        plt.plot(x, y, 'r')\n",
    "        plt.xlim([start,end])\n",
    "        \n",
    "        y2 = np.array([0,0])\n",
    "        for i in range(parts):\n",
    "            x0 = resultsx[i:i+2]\n",
    "            y1 = resultsy[i:i+2]\n",
    "            plt.fill_between(x0, y1, y2, where=y1>=y2, facecolor='blue')\n",
    "            linex, liney = [resultsx[i+1], resultsx[i+1]], [0, resultsy[i+1]]\n",
    "            plt.plot(linex, liney, color='black', linewidth=2.0)        \n",
    "        \n",
    "        plt.show()\n",
    "        print(\"The Sum of the area is: \", sum(area))\n",
    "    \n",
    "    return sum(area)"
   ]
  },
  {
   "cell_type": "code",
   "execution_count": 71,
   "id": "42c3148a",
   "metadata": {},
   "outputs": [
    {
     "data": {
      "image/png": "[encoded data removed]",
      "text/plain": [
       "<Figure size 432x288 with 1 Axes>"
      ]
     },
     "metadata": {
      "needs_background": "light"
     },
     "output_type": "display_data"
    },
    {
     "name": "stdout",
     "output_type": "stream",
     "text": [
      "The Sum of the area is:  7.545454545454545\n"
     ]
    },
    {
     "data": {
      "image/png": "[encoded data removed]",
      "text/plain": [
       "<Figure size 432x288 with 1 Axes>"
      ]
     },
     "metadata": {
      "needs_background": "light"
     },
     "output_type": "display_data"
    },
    {
     "name": "stdout",
     "output_type": "stream",
     "text": [
      "The Sum of the area is:  7.500450000000001\n"
     ]
    },
    {
     "data": {
      "text/plain": [
       "7.500450000000001"
      ]
     },
     "execution_count": 71,
     "metadata": {},
     "output_type": "execute_result"
    }
   ],
   "source": [
    "Rectangle(0,3,100)\n",
    "Trapezoid(0,3,100)"
   ]
  },
  {
   "cell_type": "code",
   "execution_count": 350,
   "id": "97d84774",
   "metadata": {},
   "outputs": [],
   "source": [
    "import numpy as np\n",
    "import matplotlib.pyplot as plt\n",
    "\n",
    "def Simpson(start, end, parts, plot=1):\n",
    "    \"\"\"\n",
    "    Simpson sum rule\n",
    "    \n",
    "    \"\"\"\n",
    "    #define the function\n",
    "    f = lambda x: x**2 - x + 1  \n",
    "    \n",
    "    #define the X, Y points \n",
    "    deltax = (end - start) / parts\n",
    "    resultsx = np.linspace(start, end, parts+1)\n",
    "    resultsy = f(resultsx)\n",
    "\n",
    "    #-----------------------------------------------------\n",
    "    #define the Simpson points and calculate the area here\n",
    "        # To calculate the area\n",
    "    h = deltax/2\n",
    "    area = np.empty([parts], float)\n",
    "    for i in range(parts):\n",
    "            area[i] = (1/3)*h*(resultsy[i]+(4*(f(resultsx[i]+h))+resultsy[i+1]))\n",
    "    #-----------------------------------------------------\n",
    "\n",
    "    #By default, we also output the plot.\n",
    "    if plot==1:\n",
    "        x = np.linspace(start,end,100)\n",
    "        y = f(x)        \n",
    "        plt.plot(x, y, 'r')\n",
    "        plt.xlim([start,end])\n",
    "        #-----------------------------------------------------\n",
    "        #draw the curves based on Simpson points here\n",
    "        y0 = lambda t: (A*t**2)+(B*t)+(f(resultsx[i]+h))\n",
    "            \n",
    "        y2 = np.array([0,0])\n",
    "        for i in range(parts):\n",
    "            A = (1/(h**2))*((resultsy[i]/2)-(f(resultsx[i]+h))+(resultsy[i+1]/2))\n",
    "            B = (1/(2*h))*(resultsy[i+1]-resultsy[i])\n",
    "            for j in range(10):\n",
    "                t = np.linspace(resultsx[i], resultsx[i+1], 100)\n",
    "                y1 = y0(t)\n",
    "                plt.plot(t, y1, 'r')\n",
    "            print(y1)\n",
    "        plt.xlim([start,end])\n",
    "            #for j in range(100):\n",
    "             #   y0 = (A*x0**2)+(B*x0)+(resultsy[j]+h)\n",
    "              #  plt.plot(x0, y0, 'r')                   \n",
    "            #plt.plot(x, (A*x**2)+(B*x)+(resultsy[i]+h), 'r')\n",
    "        y2 = np.array([0,0])\n",
    "        for i in range(parts):\n",
    "            x0 = resultsx[i:i+2]\n",
    "            y1 = resultsy[i:i+2]\n",
    "            #plt.fill_between(x0, y1, y2, where=y1>=y2, facecolor='blue')\n",
    "            linex, liney = [resultsx[i+1], resultsx[i+1]], [0, resultsy[i+1]]\n",
    "            plt.plot(linex, liney, color='black', linewidth=2.0)  \n",
    "        #-----------------------------------------------------             \n",
    "    \n",
    "        #plt.xlim([start,end])\n",
    "        #plt.ylim([min(y),max(y)])\n",
    "        #plt.show()\n",
    "    \n",
    "    return sum(area)\n"
   ]
  },
  {
   "cell_type": "code",
   "execution_count": 351,
   "id": "5e6f2d17",
   "metadata": {
    "scrolled": true
   },
   "outputs": [
    {
     "name": "stdout",
     "output_type": "stream",
     "text": [
      "[0.79       0.78761249 0.78529844 0.78305785 0.78089073 0.77879706\n",
      " 0.77677686 0.77483012 0.77295684 0.77115702 0.76943067 0.76777778\n",
      " 0.76619835 0.76469238 0.76325987 0.76190083 0.76061524 0.75940312\n",
      " 0.75826446 0.75719927 0.75620753 0.75528926 0.75444444 0.75367309\n",
      " 0.75297521 0.75235078 0.75179982 0.75132231 0.75091827 0.7505877\n",
      " 0.75033058 0.75014692 0.75003673 0.75       0.75003673 0.75014692\n",
      " 0.75033058 0.7505877  0.75091827 0.75132231 0.75179982 0.75235078\n",
      " 0.75297521 0.75367309 0.75444444 0.75528926 0.75620753 0.75719927\n",
      " 0.75826446 0.75940312 0.76061524 0.76190083 0.76325987 0.76469238\n",
      " 0.76619835 0.76777778 0.76943067 0.77115702 0.77295684 0.77483012\n",
      " 0.77677686 0.77879706 0.78089073 0.78305785 0.78529844 0.78761249\n",
      " 0.79       0.79246097 0.79499541 0.79760331 0.80028466 0.80303949\n",
      " 0.80586777 0.80876951 0.81174472 0.81479339 0.81791552 0.82111111\n",
      " 0.82438017 0.82772268 0.83113866 0.8346281  0.838191   0.84182736\n",
      " 0.84553719 0.84932048 0.85317723 0.85710744 0.86111111 0.86518825\n",
      " 0.86933884 0.8735629  0.87786042 0.8822314  0.88667585 0.89119376\n",
      " 0.89578512 0.90044995 0.90518825 0.91      ]\n",
      "[1.75       1.76215794 1.77438935 1.78669421 1.79907254 1.81152433\n",
      " 1.82404959 1.8366483  1.84932048 1.86206612 1.87488522 1.88777778\n",
      " 1.9007438  1.91378329 1.92689624 1.94008264 1.95334252 1.96667585\n",
      " 1.98008264 1.9935629  2.00711662 2.0207438  2.03444444 2.04821855\n",
      " 2.06206612 2.07598714 2.08998163 2.10404959 2.118191   2.13240588\n",
      " 2.14669421 2.16105601 2.17549128 2.19       2.20458219 2.21923783\n",
      " 2.23396694 2.24876951 2.26364555 2.27859504 2.293618   2.30871442\n",
      " 2.3238843  2.33912764 2.35444444 2.36983471 2.38529844 2.40083563\n",
      " 2.41644628 2.43213039 2.44788797 2.46371901 2.47962351 2.49560147\n",
      " 2.51165289 2.52777778 2.54397612 2.56024793 2.5765932  2.59301194\n",
      " 2.60950413 2.62606979 2.64270891 2.65942149 2.67620753 2.69306703\n",
      " 2.71       2.72700643 2.74408632 2.76123967 2.77846648 2.79576676\n",
      " 2.8131405  2.8305877  2.84810836 2.86570248 2.88337006 2.90111111\n",
      " 2.91892562 2.93681359 2.95477502 2.97280992 2.99091827 3.00910009\n",
      " 3.02735537 3.04568411 3.06408632 3.08256198 3.10111111 3.1197337\n",
      " 3.13842975 3.15719927 3.17604224 3.19495868 3.21394858 3.23301194\n",
      " 3.25214876 3.27135904 3.29064279 3.31      ]\n",
      "[5.59       5.6167034  5.64348026 5.67033058 5.69725436 5.72425161\n",
      " 5.75132231 5.77846648 5.80568411 5.83297521 5.86033976 5.88777778\n",
      " 5.91528926 5.9428742  5.9705326  5.99826446 6.02606979 6.05394858\n",
      " 6.08190083 6.10992654 6.13802571 6.16619835 6.19444444 6.222764\n",
      " 6.25115702 6.27962351 6.30816345 6.33677686 6.36546373 6.39422406\n",
      " 6.42305785 6.45196511 6.48094582 6.51       6.53912764 6.56832874\n",
      " 6.59760331 6.62695133 6.65637282 6.68586777 6.71543618 6.74507805\n",
      " 6.77479339 6.80458219 6.83444444 6.86438017 6.89438935 6.92447199\n",
      " 6.9546281  6.98485767 7.0151607  7.04553719 7.07598714 7.10651056\n",
      " 7.13710744 7.16777778 7.19852158 7.22933884 7.26022957 7.29119376\n",
      " 7.3222314  7.35334252 7.38452709 7.41578512 7.44711662 7.47852158\n",
      " 7.51       7.54155188 7.57317723 7.60487603 7.6366483  7.66849403\n",
      " 7.70041322 7.73240588 7.76447199 7.79661157 7.82882461 7.86111111\n",
      " 7.89347107 7.9259045  7.95841139 7.99099174 8.02364555 8.05637282\n",
      " 8.08917355 8.12204775 8.15499541 8.18801653 8.22111111 8.25427916\n",
      " 8.28752066 8.32083563 8.35422406 8.38768595 8.4212213  8.45483012\n",
      " 8.4885124  8.52226814 8.55609734 8.59      ]\n",
      "[12.31       12.35124885 12.39257117 12.43396694 12.47543618 12.51697888\n",
      " 12.55859504 12.60028466 12.64204775 12.6838843  12.72579431 12.76777778\n",
      " 12.80983471 12.85196511 12.89416896 12.93644628 12.97879706 13.0212213\n",
      " 13.06371901 13.10629017 13.1489348  13.19165289 13.23444444 13.27730946\n",
      " 13.32024793 13.36325987 13.40634527 13.44950413 13.49273646 13.53604224\n",
      " 13.57942149 13.6228742  13.66640037 13.71       13.75367309 13.79741965\n",
      " 13.84123967 13.88513315 13.92910009 13.9731405  14.01725436 14.06144169\n",
      " 14.10570248 14.15003673 14.19444444 14.23892562 14.28348026 14.32810836\n",
      " 14.37280992 14.41758494 14.46243343 14.50735537 14.55235078 14.59741965\n",
      " 14.64256198 14.68777778 14.73306703 14.77842975 14.82386593 14.86937557\n",
      " 14.91495868 14.96061524 15.00634527 15.05214876 15.09802571 15.14397612\n",
      " 15.19       15.23609734 15.28226814 15.3285124  15.37483012 15.4212213\n",
      " 15.46768595 15.51422406 15.56083563 15.60752066 15.65427916 15.70111111\n",
      " 15.74801653 15.79499541 15.84204775 15.88917355 15.93637282 15.98364555\n",
      " 16.03099174 16.07841139 16.1259045  16.17347107 16.22111111 16.26882461\n",
      " 16.31661157 16.36447199 16.41240588 16.46041322 16.50849403 16.5566483\n",
      " 16.60487603 16.65317723 16.70155188 16.75      ]\n",
      "[21.91       21.96579431 22.02166208 22.07760331 22.133618   22.18970615\n",
      " 22.24586777 22.30210285 22.35841139 22.41479339 22.47124885 22.52777778\n",
      " 22.58438017 22.64105601 22.69780533 22.7546281  22.81152433 22.86849403\n",
      " 22.92553719 22.98265381 23.03984389 23.09710744 23.15444444 23.21185491\n",
      " 23.26933884 23.32689624 23.38452709 23.4422314  23.50000918 23.55786042\n",
      " 23.61578512 23.67378329 23.73185491 23.79       23.84821855 23.90651056\n",
      " 23.96487603 24.02331497 24.08182736 24.14041322 24.19907254 24.25780533\n",
      " 24.31661157 24.37549128 24.43444444 24.49347107 24.55257117 24.61174472\n",
      " 24.67099174 24.73031221 24.78970615 24.84917355 24.90871442 24.96832874\n",
      " 25.02801653 25.08777778 25.14761249 25.20752066 25.2675023  25.32755739\n",
      " 25.38768595 25.44788797 25.50816345 25.5685124  25.6289348  25.68943067\n",
      " 25.75       25.81064279 25.87135904 25.93214876 25.99301194 26.05394858\n",
      " 26.11495868 26.17604224 26.23719927 26.29842975 26.3597337  26.42111111\n",
      " 26.48256198 26.54408632 26.60568411 26.66735537 26.72910009 26.79091827\n",
      " 26.85280992 26.91477502 26.97681359 27.03892562 27.10111111 27.16337006\n",
      " 27.22570248 27.28810836 27.3505877  27.4131405  27.47576676 27.53846648\n",
      " 27.60123967 27.66408632 27.72700643 27.79      ]\n"
     ]
    },
    {
     "data": {
      "text/plain": [
       "7.499999999999997"
      ]
     },
     "execution_count": 351,
     "metadata": {},
     "output_type": "execute_result"
    },
    {
     "data": {
      "image/png": "[encoded data removed]",
      "text/plain": [
       "<Figure size 432x288 with 1 Axes>"
      ]
     },
     "metadata": {
      "needs_background": "light"
     },
     "output_type": "display_data"
    }
   ],
   "source": [
    "Simpson(0, 3, 5)"
   ]
  },
  {
   "cell_type": "code",
   "execution_count": null,
   "id": "b8f40623",
   "metadata": {},
   "outputs": [],
   "source": []
  }
 ],
 "metadata": {
  "kernelspec": {
   "display_name": "Python 3 (ipykernel)",
   "language": "python",
   "name": "python3"
  },
  "language_info": {
   "codemirror_mode": {
    "name": "ipython",
    "version": 3
   },
   "file_extension": ".py",
   "mimetype": "text/x-python",
   "name": "python",
   "nbconvert_exporter": "python",
   "pygments_lexer": "ipython3",
   "version": "3.9.12"
  }
 },
 "nbformat": 4,
 "nbformat_minor": 5
}
