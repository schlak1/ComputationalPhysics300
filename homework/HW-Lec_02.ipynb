{
 "cells": [
  {
   "cell_type": "markdown",
   "id": "6505f089",
   "metadata": {},
   "source": [
    "# Proof of the equation"
   ]
  },
  {
   "cell_type": "code",
   "execution_count": 48,
   "id": "f4d8ad74",
   "metadata": {},
   "outputs": [
    {
     "name": "stdout",
     "output_type": "stream",
     "text": [
      "type a value for N: 2\n",
      "type a value for q: 2\n",
      "when N= 2 ; and q= 2 ;  omega is 3.0\n"
     ]
    }
   ],
   "source": [
    "#Import factorial function\n",
    "from math import factorial\n",
    "#Code to compute omega    \n",
    "def Omega(N, q):\n",
    "    ans = 0\n",
    "    ans = (factorial(q+N-1)/(factorial(q) * factorial(N-1)))\n",
    "    \n",
    "    return ans\n",
    "#Prompt for N and q values and output Omega             \n",
    "N=int(input(\"type a value for N: \"))\n",
    "q=int(input(\"type a value for q: \"))\n",
    "print('when N=', N, '; and q=', q, ';  omega is',  Omega(N,q))"
   ]
  }
 ],
 "metadata": {
  "kernelspec": {
   "display_name": "Python 3 (ipykernel)",
   "language": "python",
   "name": "python3"
  },
  "language_info": {
   "codemirror_mode": {
    "name": "ipython",
    "version": 3
   },
   "file_extension": ".py",
   "mimetype": "text/x-python",
   "name": "python",
   "nbconvert_exporter": "python",
   "pygments_lexer": "ipython3",
   "version": "3.9.12"
  }
 },
 "nbformat": 4,
 "nbformat_minor": 5
}
