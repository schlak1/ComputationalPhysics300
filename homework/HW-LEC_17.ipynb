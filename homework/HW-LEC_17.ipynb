{
 "cells": [
  {
   "cell_type": "code",
   "execution_count": 12,
   "id": "69ad9870",
   "metadata": {},
   "outputs": [],
   "source": [
    "import numpy as np\n",
    "#Calculate the total energy by inserting the atomic positions of the atoms in an array\n",
    "def total_energy(positions):\n",
    "\n",
    "    E = 0\n",
    "    N_atom = int(len(positions)/3)\n",
    "\n",
    "    for i in range(N_atom-1):\n",
    "        for j in range(i+1, N_atom):\n",
    "            pos1 = positions[i*3:(i+1)*3]\n",
    "            pos2 = positions[j*3:(j+1)*3]\n",
    "            dist = np.linalg.norm(pos1-pos2)\n",
    "            E += LJ(dist)\n",
    "    return E"
   ]
  },
  {
   "cell_type": "code",
   "execution_count": 13,
   "id": "12d6daba",
   "metadata": {},
   "outputs": [
    {
     "data": {
      "text/plain": [
       "-2.9999999999980176"
      ]
     },
     "execution_count": 13,
     "metadata": {},
     "output_type": "execute_result"
    }
   ],
   "source": [
    "#Use the positions given from http://doye.chem.ox.ac.uk/jon/structures/LJ/tables.150.html\n",
    "pos = np.array([0.4391356726, 0.1106588251, -0.4635601962,\n",
    "               -0.5185079933, 0.3850176090, 0.0537084789,\n",
    "                0.0793723207, -0.4956764341, 0.4098517173])\n",
    "total_energy(pos)"
   ]
  }
 ],
 "metadata": {
  "kernelspec": {
   "display_name": "Python 3 (ipykernel)",
   "language": "python",
   "name": "python3"
  },
  "language_info": {
   "codemirror_mode": {
    "name": "ipython",
    "version": 3
   },
   "file_extension": ".py",
   "mimetype": "text/x-python",
   "name": "python",
   "nbconvert_exporter": "python",
   "pygments_lexer": "ipython3",
   "version": "3.9.12"
  }
 },
 "nbformat": 4,
 "nbformat_minor": 5
}
