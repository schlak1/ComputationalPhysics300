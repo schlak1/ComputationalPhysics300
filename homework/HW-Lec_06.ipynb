{
 "cells": [
  {
   "cell_type": "code",
   "execution_count": 124,
   "id": "3bcef5cf",
   "metadata": {},
   "outputs": [],
   "source": [
    "import numpy as np\n",
    "import matplotlib.pyplot as plt\n",
    "import math\n",
    "#The function that solves the integral part of the equation\n",
    "def Trapezoid(T):\n",
    "    \"\"\"\n",
    "    Trapezoid sum rule\n",
    "    \n",
    "    \"\"\"\n",
    "    k = 1.380649*(10**(-23))\n",
    "    #define the function\n",
    "    x = 428/T\n",
    "    f = lambda x: ((x**4)*(math.e**x))/(((math.e**x)-1)**2) \n",
    "    #define the X, Y points \n",
    "    deltax = (x - 0.00000001) / 1000\n",
    "    resultsx = np.linspace(0.00000001, x, 1001)\n",
    "    resultsy = f(resultsx)\n",
    "\n",
    "    # To calculate the area\n",
    "    area = np.empty([1000], float)\n",
    "    for i in range(1000):\n",
    "            area[i] = (resultsy[i]+resultsy[i+1]) * deltax/2\n",
    "    \n",
    "    return sum(area)"
   ]
  },
  {
   "cell_type": "code",
   "execution_count": 125,
   "id": "1d78af0d",
   "metadata": {},
   "outputs": [],
   "source": [
    "#The function that solves for heat capacity by calling the trapezoid function to solve the integral\n",
    "def HeatCapacity(T):\n",
    "    k = 1.380649*(10**(-23))\n",
    "    HC = 9*0.001*(6.022*(10**28))*k*((T/428)**3) * Trapezoid(T)\n",
    "    return (HC)"
   ]
  },
  {
   "cell_type": "code",
   "execution_count": 126,
   "id": "dd9afd50",
   "metadata": {},
   "outputs": [],
   "source": [
    "#The function that find values of heat capacity at temperatures 5 - 500 and graphs them\n",
    "def HeatFunction():\n",
    "    #Set an equation to call the heat capactiy function\n",
    "    f = lambda x: HeatCapacity(x)\n",
    "    #Create and fill arrays for temperature and heat capactiy functions\n",
    "    t = np.linspace(5, 500,100)\n",
    "    y = np.empty(100)\n",
    "    for i in range(100):\n",
    "        y[i] = f(t[i])\n",
    "    #Plot the data\n",
    "    plt.plot(t, y, 'r')\n",
    "    plt.xlim([5,500])\n",
    "    return"
   ]
  },
  {
   "cell_type": "code",
   "execution_count": 127,
   "id": "ba5f86dc",
   "metadata": {},
   "outputs": [
    {
     "name": "stdout",
     "output_type": "stream",
     "text": [
      "2163.821383215511\n"
     ]
    },
    {
     "data": {
      "image/png": "[encoded data removed]",
      "text/plain": [
       "<Figure size 432x288 with 1 Axes>"
      ]
     },
     "metadata": {
      "needs_background": "light"
     },
     "output_type": "display_data"
    }
   ],
   "source": [
    "print(HeatCapacity(250))\n",
    "HeatFunction()"
   ]
  },
  {
   "cell_type": "code",
   "execution_count": null,
   "id": "e70a5322",
   "metadata": {},
   "outputs": [],
   "source": []
  }
 ],
 "metadata": {
  "kernelspec": {
   "display_name": "Python 3 (ipykernel)",
   "language": "python",
   "name": "python3"
  },
  "language_info": {
   "codemirror_mode": {
    "name": "ipython",
    "version": 3
   },
   "file_extension": ".py",
   "mimetype": "text/x-python",
   "name": "python",
   "nbconvert_exporter": "python",
   "pygments_lexer": "ipython3",
   "version": "3.9.12"
  }
 },
 "nbformat": 4,
 "nbformat_minor": 5
}
