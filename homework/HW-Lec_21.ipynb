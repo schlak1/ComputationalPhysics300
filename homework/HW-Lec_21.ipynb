{
 "cells": [
  {
   "cell_type": "code",
   "execution_count": 2,
   "id": "1c251be4",
   "metadata": {},
   "outputs": [],
   "source": [
    "from sklearn.datasets import load_iris\n",
    "dataset = load_iris()\n",
    "X = dataset.data\n",
    "Y = dataset.target"
   ]
  },
  {
   "cell_type": "code",
   "execution_count": 3,
   "id": "90b4b505",
   "metadata": {},
   "outputs": [],
   "source": [
    "from collections import OrderedDict\n",
    "import pandas as pd\n",
    "\n",
    "Iris_data = OrderedDict({'Sepal Length ': X[:,0],\n",
    "             'Sepal Width': X[:,1],\n",
    "             'Petal Length': X[:,2],\n",
    "             'Petal Width': X[:,3],\n",
    "             'Label': Y})\n",
    "\n",
    "df = pd.DataFrame(Iris_data)"
   ]
  },
  {
   "cell_type": "code",
   "execution_count": 4,
   "id": "12e19c15",
   "metadata": {},
   "outputs": [],
   "source": [
    "import numpy as np\n",
    "X_d = np.array( X>X.mean(), dtype='int')\n"
   ]
  },
  {
   "cell_type": "code",
   "execution_count": 6,
   "id": "45bd5b01",
   "metadata": {},
   "outputs": [],
   "source": [
    "\n",
    "from collections import OrderedDict\n",
    "import pandas as pd\n",
    "\n",
    "Iris_data_d = OrderedDict({'Sepal Length ': X_d[:,0],\n",
    "             'Sepal Width': X_d[:,1],\n",
    "             'Petal Length': X_d[:,2],\n",
    "             'Petal Width': X_d[:,3],\n",
    "             'Label': Y})\n",
    "\n",
    "df = pd.DataFrame(Iris_data_d)"
   ]
  },
  {
   "cell_type": "code",
   "execution_count": 10,
   "id": "ad1ebf11",
   "metadata": {},
   "outputs": [],
   "source": [
    "#Sepal length\n",
    "SL = 0\n",
    "SW = 0\n",
    "PL = 0\n",
    "PW = 0\n",
    "for i in range (150):\n",
    "    if (X_d[i,0] == 1):\n",
    "        SL += 1\n",
    "#Sepal width\n",
    "for i in range (150):\n",
    "    if (X_d[i,1] == 1):\n",
    "        SW += 1\n",
    "#Petal length\n",
    "for i in range (150):\n",
    "    if (X_d[i,2] == 1):\n",
    "        PL += 1\n",
    "#Petal width\n",
    "for i in range (150):\n",
    "    if (X_d[i,3] == 1):\n",
    "        PW += 1"
   ]
  },
  {
   "cell_type": "code",
   "execution_count": 11,
   "id": "6052e23d",
   "metadata": {},
   "outputs": [
    {
     "name": "stdout",
     "output_type": "stream",
     "text": [
      "150 25 97 0\n"
     ]
    }
   ],
   "source": [
    "print (SL, SW, PL, PW)"
   ]
  },
  {
   "cell_type": "code",
   "execution_count": null,
   "id": "01cbb3ca",
   "metadata": {},
   "outputs": [],
   "source": []
  }
 ],
 "metadata": {
  "kernelspec": {
   "display_name": "Python 3 (ipykernel)",
   "language": "python",
   "name": "python3"
  },
  "language_info": {
   "codemirror_mode": {
    "name": "ipython",
    "version": 3
   },
   "file_extension": ".py",
   "mimetype": "text/x-python",
   "name": "python",
   "nbconvert_exporter": "python",
   "pygments_lexer": "ipython3",
   "version": "3.9.12"
  }
 },
 "nbformat": 4,
 "nbformat_minor": 5
}
